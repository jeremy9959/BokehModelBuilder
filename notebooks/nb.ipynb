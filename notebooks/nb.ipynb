{
 "cells": [
  {
   "cell_type": "raw",
   "metadata": {},
   "source": [
    "This IPython Notebook contains simple examples of the line function. \n",
    "\n",
    "To clear all previously rendered cell outputs, select from the menu:\n",
    "\n",
    "    Cell -> All Output -> Clear"
   ]
  },
  {
   "cell_type": "code",
   "execution_count": 1,
   "metadata": {
    "collapsed": false,
    "jupyter": {
     "outputs_hidden": false
    }
   },
   "outputs": [
    {
     "data": {
      "text/html": [
       "\n",
       "    <div class=\"bk-root\">\n",
       "        <a href=\"https://bokeh.pydata.org\" target=\"_blank\" class=\"bk-logo bk-logo-small bk-logo-notebook\"></a>\n",
       "        <span id=\"8ca5b78e-ca6e-4473-8e71-036faf53be5b\">Loading BokehJS ...</span>\n",
       "    </div>"
      ]
     },
     "metadata": {},
     "output_type": "display_data"
    },
    {
     "data": {
      "application/javascript": [
       "\n",
       "(function(root) {\n",
       "  function now() {\n",
       "    return new Date();\n",
       "  }\n",
       "\n",
       "  var force = true;\n",
       "\n",
       "  if (typeof (root._bokeh_onload_callbacks) === \"undefined\" || force === true) {\n",
       "    root._bokeh_onload_callbacks = [];\n",
       "    root._bokeh_is_loading = undefined;\n",
       "  }\n",
       "\n",
       "  var JS_MIME_TYPE = 'application/javascript';\n",
       "  var HTML_MIME_TYPE = 'text/html';\n",
       "  var EXEC_MIME_TYPE = 'application/vnd.bokehjs_exec.v0+json';\n",
       "  var CLASS_NAME = 'output_bokeh rendered_html';\n",
       "\n",
       "  /**\n",
       "   * Render data to the DOM node\n",
       "   */\n",
       "  function render(props, node) {\n",
       "    var script = document.createElement(\"script\");\n",
       "    node.appendChild(script);\n",
       "  }\n",
       "\n",
       "  /**\n",
       "   * Handle when an output is cleared or removed\n",
       "   */\n",
       "  function handleClearOutput(event, handle) {\n",
       "    var cell = handle.cell;\n",
       "\n",
       "    var id = cell.output_area._bokeh_element_id;\n",
       "    var server_id = cell.output_area._bokeh_server_id;\n",
       "    // Clean up Bokeh references\n",
       "    if (id != null && id in Bokeh.index) {\n",
       "      Bokeh.index[id].model.document.clear();\n",
       "      delete Bokeh.index[id];\n",
       "    }\n",
       "\n",
       "    if (server_id !== undefined) {\n",
       "      // Clean up Bokeh references\n",
       "      var cmd = \"from bokeh.io.state import curstate; print(curstate().uuid_to_server['\" + server_id + \"'].get_sessions()[0].document.roots[0]._id)\";\n",
       "      cell.notebook.kernel.execute(cmd, {\n",
       "        iopub: {\n",
       "          output: function(msg) {\n",
       "            var id = msg.content.text.trim();\n",
       "            if (id in Bokeh.index) {\n",
       "              Bokeh.index[id].model.document.clear();\n",
       "              delete Bokeh.index[id];\n",
       "            }\n",
       "          }\n",
       "        }\n",
       "      });\n",
       "      // Destroy server and session\n",
       "      var cmd = \"import bokeh.io.notebook as ion; ion.destroy_server('\" + server_id + \"')\";\n",
       "      cell.notebook.kernel.execute(cmd);\n",
       "    }\n",
       "  }\n",
       "\n",
       "  /**\n",
       "   * Handle when a new output is added\n",
       "   */\n",
       "  function handleAddOutput(event, handle) {\n",
       "    var output_area = handle.output_area;\n",
       "    var output = handle.output;\n",
       "\n",
       "    // limit handleAddOutput to display_data with EXEC_MIME_TYPE content only\n",
       "    if ((output.output_type != \"display_data\") || (!output.data.hasOwnProperty(EXEC_MIME_TYPE))) {\n",
       "      return\n",
       "    }\n",
       "\n",
       "    var toinsert = output_area.element.find(\".\" + CLASS_NAME.split(' ')[0]);\n",
       "\n",
       "    if (output.metadata[EXEC_MIME_TYPE][\"id\"] !== undefined) {\n",
       "      toinsert[toinsert.length - 1].firstChild.textContent = output.data[JS_MIME_TYPE];\n",
       "      // store reference to embed id on output_area\n",
       "      output_area._bokeh_element_id = output.metadata[EXEC_MIME_TYPE][\"id\"];\n",
       "    }\n",
       "    if (output.metadata[EXEC_MIME_TYPE][\"server_id\"] !== undefined) {\n",
       "      var bk_div = document.createElement(\"div\");\n",
       "      bk_div.innerHTML = output.data[HTML_MIME_TYPE];\n",
       "      var script_attrs = bk_div.children[0].attributes;\n",
       "      for (var i = 0; i < script_attrs.length; i++) {\n",
       "        toinsert[toinsert.length - 1].firstChild.setAttribute(script_attrs[i].name, script_attrs[i].value);\n",
       "      }\n",
       "      // store reference to server id on output_area\n",
       "      output_area._bokeh_server_id = output.metadata[EXEC_MIME_TYPE][\"server_id\"];\n",
       "    }\n",
       "  }\n",
       "\n",
       "  function register_renderer(events, OutputArea) {\n",
       "\n",
       "    function append_mime(data, metadata, element) {\n",
       "      // create a DOM node to render to\n",
       "      var toinsert = this.create_output_subarea(\n",
       "        metadata,\n",
       "        CLASS_NAME,\n",
       "        EXEC_MIME_TYPE\n",
       "      );\n",
       "      this.keyboard_manager.register_events(toinsert);\n",
       "      // Render to node\n",
       "      var props = {data: data, metadata: metadata[EXEC_MIME_TYPE]};\n",
       "      render(props, toinsert[toinsert.length - 1]);\n",
       "      element.append(toinsert);\n",
       "      return toinsert\n",
       "    }\n",
       "\n",
       "    /* Handle when an output is cleared or removed */\n",
       "    events.on('clear_output.CodeCell', handleClearOutput);\n",
       "    events.on('delete.Cell', handleClearOutput);\n",
       "\n",
       "    /* Handle when a new output is added */\n",
       "    events.on('output_added.OutputArea', handleAddOutput);\n",
       "\n",
       "    /**\n",
       "     * Register the mime type and append_mime function with output_area\n",
       "     */\n",
       "    OutputArea.prototype.register_mime_type(EXEC_MIME_TYPE, append_mime, {\n",
       "      /* Is output safe? */\n",
       "      safe: true,\n",
       "      /* Index of renderer in `output_area.display_order` */\n",
       "      index: 0\n",
       "    });\n",
       "  }\n",
       "\n",
       "  // register the mime type if in Jupyter Notebook environment and previously unregistered\n",
       "  if (root.Jupyter !== undefined) {\n",
       "    var events = require('base/js/events');\n",
       "    var OutputArea = require('notebook/js/outputarea').OutputArea;\n",
       "\n",
       "    if (OutputArea.prototype.mime_types().indexOf(EXEC_MIME_TYPE) == -1) {\n",
       "      register_renderer(events, OutputArea);\n",
       "    }\n",
       "  }\n",
       "\n",
       "  \n",
       "  if (typeof (root._bokeh_timeout) === \"undefined\" || force === true) {\n",
       "    root._bokeh_timeout = Date.now() + 5000;\n",
       "    root._bokeh_failed_load = false;\n",
       "  }\n",
       "\n",
       "  var NB_LOAD_WARNING = {'data': {'text/html':\n",
       "     \"<div style='background-color: #fdd'>\\n\"+\n",
       "     \"<p>\\n\"+\n",
       "     \"BokehJS does not appear to have successfully loaded. If loading BokehJS from CDN, this \\n\"+\n",
       "     \"may be due to a slow or bad network connection. Possible fixes:\\n\"+\n",
       "     \"</p>\\n\"+\n",
       "     \"<ul>\\n\"+\n",
       "     \"<li>re-rerun `output_notebook()` to attempt to load from CDN again, or</li>\\n\"+\n",
       "     \"<li>use INLINE resources instead, as so:</li>\\n\"+\n",
       "     \"</ul>\\n\"+\n",
       "     \"<code>\\n\"+\n",
       "     \"from bokeh.resources import INLINE\\n\"+\n",
       "     \"output_notebook(resources=INLINE)\\n\"+\n",
       "     \"</code>\\n\"+\n",
       "     \"</div>\"}};\n",
       "\n",
       "  function display_loaded() {\n",
       "    var el = document.getElementById(\"8ca5b78e-ca6e-4473-8e71-036faf53be5b\");\n",
       "    if (el != null) {\n",
       "      el.textContent = \"BokehJS is loading...\";\n",
       "    }\n",
       "    if (root.Bokeh !== undefined) {\n",
       "      if (el != null) {\n",
       "        el.textContent = \"BokehJS \" + root.Bokeh.version + \" successfully loaded.\";\n",
       "      }\n",
       "    } else if (Date.now() < root._bokeh_timeout) {\n",
       "      setTimeout(display_loaded, 100)\n",
       "    }\n",
       "  }\n",
       "\n",
       "\n",
       "  function run_callbacks() {\n",
       "    try {\n",
       "      root._bokeh_onload_callbacks.forEach(function(callback) { callback() });\n",
       "    }\n",
       "    finally {\n",
       "      delete root._bokeh_onload_callbacks\n",
       "    }\n",
       "    console.info(\"Bokeh: all callbacks have finished\");\n",
       "  }\n",
       "\n",
       "  function load_libs(js_urls, callback) {\n",
       "    root._bokeh_onload_callbacks.push(callback);\n",
       "    if (root._bokeh_is_loading > 0) {\n",
       "      console.log(\"Bokeh: BokehJS is being loaded, scheduling callback at\", now());\n",
       "      return null;\n",
       "    }\n",
       "    if (js_urls == null || js_urls.length === 0) {\n",
       "      run_callbacks();\n",
       "      return null;\n",
       "    }\n",
       "    console.log(\"Bokeh: BokehJS not loaded, scheduling load and callback at\", now());\n",
       "    root._bokeh_is_loading = js_urls.length;\n",
       "    for (var i = 0; i < js_urls.length; i++) {\n",
       "      var url = js_urls[i];\n",
       "      var s = document.createElement('script');\n",
       "      s.src = url;\n",
       "      s.async = false;\n",
       "      s.onreadystatechange = s.onload = function() {\n",
       "        root._bokeh_is_loading--;\n",
       "        if (root._bokeh_is_loading === 0) {\n",
       "          console.log(\"Bokeh: all BokehJS libraries loaded\");\n",
       "          run_callbacks()\n",
       "        }\n",
       "      };\n",
       "      s.onerror = function() {\n",
       "        console.warn(\"failed to load library \" + url);\n",
       "      };\n",
       "      console.log(\"Bokeh: injecting script tag for BokehJS library: \", url);\n",
       "      document.getElementsByTagName(\"head\")[0].appendChild(s);\n",
       "    }\n",
       "  };var element = document.getElementById(\"8ca5b78e-ca6e-4473-8e71-036faf53be5b\");\n",
       "  if (element == null) {\n",
       "    console.log(\"Bokeh: ERROR: autoload.js configured with elementid '8ca5b78e-ca6e-4473-8e71-036faf53be5b' but no matching script tag was found. \")\n",
       "    return false;\n",
       "  }\n",
       "\n",
       "  var js_urls = [\"https://cdn.pydata.org/bokeh/release/bokeh-0.13.0.min.js\", \"https://cdn.pydata.org/bokeh/release/bokeh-widgets-0.13.0.min.js\", \"https://cdn.pydata.org/bokeh/release/bokeh-tables-0.13.0.min.js\", \"https://cdn.pydata.org/bokeh/release/bokeh-gl-0.13.0.min.js\"];\n",
       "\n",
       "  var inline_js = [\n",
       "    function(Bokeh) {\n",
       "      Bokeh.set_log_level(\"info\");\n",
       "    },\n",
       "    \n",
       "    function(Bokeh) {\n",
       "      \n",
       "    },\n",
       "    function(Bokeh) {\n",
       "      console.log(\"Bokeh: injecting CSS: https://cdn.pydata.org/bokeh/release/bokeh-0.13.0.min.css\");\n",
       "      Bokeh.embed.inject_css(\"https://cdn.pydata.org/bokeh/release/bokeh-0.13.0.min.css\");\n",
       "      console.log(\"Bokeh: injecting CSS: https://cdn.pydata.org/bokeh/release/bokeh-widgets-0.13.0.min.css\");\n",
       "      Bokeh.embed.inject_css(\"https://cdn.pydata.org/bokeh/release/bokeh-widgets-0.13.0.min.css\");\n",
       "      console.log(\"Bokeh: injecting CSS: https://cdn.pydata.org/bokeh/release/bokeh-tables-0.13.0.min.css\");\n",
       "      Bokeh.embed.inject_css(\"https://cdn.pydata.org/bokeh/release/bokeh-tables-0.13.0.min.css\");\n",
       "    }\n",
       "  ];\n",
       "\n",
       "  function run_inline_js() {\n",
       "    \n",
       "    if ((root.Bokeh !== undefined) || (force === true)) {\n",
       "      for (var i = 0; i < inline_js.length; i++) {\n",
       "        inline_js[i].call(root, root.Bokeh);\n",
       "      }if (force === true) {\n",
       "        display_loaded();\n",
       "      }} else if (Date.now() < root._bokeh_timeout) {\n",
       "      setTimeout(run_inline_js, 100);\n",
       "    } else if (!root._bokeh_failed_load) {\n",
       "      console.log(\"Bokeh: BokehJS failed to load within specified timeout.\");\n",
       "      root._bokeh_failed_load = true;\n",
       "    } else if (force !== true) {\n",
       "      var cell = $(document.getElementById(\"8ca5b78e-ca6e-4473-8e71-036faf53be5b\")).parents('.cell').data().cell;\n",
       "      cell.output_area.append_execute_result(NB_LOAD_WARNING)\n",
       "    }\n",
       "\n",
       "  }\n",
       "\n",
       "  if (root._bokeh_is_loading === 0) {\n",
       "    console.log(\"Bokeh: BokehJS loaded, going straight to plotting\");\n",
       "    run_inline_js();\n",
       "  } else {\n",
       "    load_libs(js_urls, function() {\n",
       "      console.log(\"Bokeh: BokehJS plotting callback run at\", now());\n",
       "      run_inline_js();\n",
       "    });\n",
       "  }\n",
       "}(window));"
      ],
      "application/vnd.bokehjs_load.v0+json": "\n(function(root) {\n  function now() {\n    return new Date();\n  }\n\n  var force = true;\n\n  if (typeof (root._bokeh_onload_callbacks) === \"undefined\" || force === true) {\n    root._bokeh_onload_callbacks = [];\n    root._bokeh_is_loading = undefined;\n  }\n\n  \n\n  \n  if (typeof (root._bokeh_timeout) === \"undefined\" || force === true) {\n    root._bokeh_timeout = Date.now() + 5000;\n    root._bokeh_failed_load = false;\n  }\n\n  var NB_LOAD_WARNING = {'data': {'text/html':\n     \"<div style='background-color: #fdd'>\\n\"+\n     \"<p>\\n\"+\n     \"BokehJS does not appear to have successfully loaded. If loading BokehJS from CDN, this \\n\"+\n     \"may be due to a slow or bad network connection. Possible fixes:\\n\"+\n     \"</p>\\n\"+\n     \"<ul>\\n\"+\n     \"<li>re-rerun `output_notebook()` to attempt to load from CDN again, or</li>\\n\"+\n     \"<li>use INLINE resources instead, as so:</li>\\n\"+\n     \"</ul>\\n\"+\n     \"<code>\\n\"+\n     \"from bokeh.resources import INLINE\\n\"+\n     \"output_notebook(resources=INLINE)\\n\"+\n     \"</code>\\n\"+\n     \"</div>\"}};\n\n  function display_loaded() {\n    var el = document.getElementById(\"8ca5b78e-ca6e-4473-8e71-036faf53be5b\");\n    if (el != null) {\n      el.textContent = \"BokehJS is loading...\";\n    }\n    if (root.Bokeh !== undefined) {\n      if (el != null) {\n        el.textContent = \"BokehJS \" + root.Bokeh.version + \" successfully loaded.\";\n      }\n    } else if (Date.now() < root._bokeh_timeout) {\n      setTimeout(display_loaded, 100)\n    }\n  }\n\n\n  function run_callbacks() {\n    try {\n      root._bokeh_onload_callbacks.forEach(function(callback) { callback() });\n    }\n    finally {\n      delete root._bokeh_onload_callbacks\n    }\n    console.info(\"Bokeh: all callbacks have finished\");\n  }\n\n  function load_libs(js_urls, callback) {\n    root._bokeh_onload_callbacks.push(callback);\n    if (root._bokeh_is_loading > 0) {\n      console.log(\"Bokeh: BokehJS is being loaded, scheduling callback at\", now());\n      return null;\n    }\n    if (js_urls == null || js_urls.length === 0) {\n      run_callbacks();\n      return null;\n    }\n    console.log(\"Bokeh: BokehJS not loaded, scheduling load and callback at\", now());\n    root._bokeh_is_loading = js_urls.length;\n    for (var i = 0; i < js_urls.length; i++) {\n      var url = js_urls[i];\n      var s = document.createElement('script');\n      s.src = url;\n      s.async = false;\n      s.onreadystatechange = s.onload = function() {\n        root._bokeh_is_loading--;\n        if (root._bokeh_is_loading === 0) {\n          console.log(\"Bokeh: all BokehJS libraries loaded\");\n          run_callbacks()\n        }\n      };\n      s.onerror = function() {\n        console.warn(\"failed to load library \" + url);\n      };\n      console.log(\"Bokeh: injecting script tag for BokehJS library: \", url);\n      document.getElementsByTagName(\"head\")[0].appendChild(s);\n    }\n  };var element = document.getElementById(\"8ca5b78e-ca6e-4473-8e71-036faf53be5b\");\n  if (element == null) {\n    console.log(\"Bokeh: ERROR: autoload.js configured with elementid '8ca5b78e-ca6e-4473-8e71-036faf53be5b' but no matching script tag was found. \")\n    return false;\n  }\n\n  var js_urls = [\"https://cdn.pydata.org/bokeh/release/bokeh-0.13.0.min.js\", \"https://cdn.pydata.org/bokeh/release/bokeh-widgets-0.13.0.min.js\", \"https://cdn.pydata.org/bokeh/release/bokeh-tables-0.13.0.min.js\", \"https://cdn.pydata.org/bokeh/release/bokeh-gl-0.13.0.min.js\"];\n\n  var inline_js = [\n    function(Bokeh) {\n      Bokeh.set_log_level(\"info\");\n    },\n    \n    function(Bokeh) {\n      \n    },\n    function(Bokeh) {\n      console.log(\"Bokeh: injecting CSS: https://cdn.pydata.org/bokeh/release/bokeh-0.13.0.min.css\");\n      Bokeh.embed.inject_css(\"https://cdn.pydata.org/bokeh/release/bokeh-0.13.0.min.css\");\n      console.log(\"Bokeh: injecting CSS: https://cdn.pydata.org/bokeh/release/bokeh-widgets-0.13.0.min.css\");\n      Bokeh.embed.inject_css(\"https://cdn.pydata.org/bokeh/release/bokeh-widgets-0.13.0.min.css\");\n      console.log(\"Bokeh: injecting CSS: https://cdn.pydata.org/bokeh/release/bokeh-tables-0.13.0.min.css\");\n      Bokeh.embed.inject_css(\"https://cdn.pydata.org/bokeh/release/bokeh-tables-0.13.0.min.css\");\n    }\n  ];\n\n  function run_inline_js() {\n    \n    if ((root.Bokeh !== undefined) || (force === true)) {\n      for (var i = 0; i < inline_js.length; i++) {\n        inline_js[i].call(root, root.Bokeh);\n      }if (force === true) {\n        display_loaded();\n      }} else if (Date.now() < root._bokeh_timeout) {\n      setTimeout(run_inline_js, 100);\n    } else if (!root._bokeh_failed_load) {\n      console.log(\"Bokeh: BokehJS failed to load within specified timeout.\");\n      root._bokeh_failed_load = true;\n    } else if (force !== true) {\n      var cell = $(document.getElementById(\"8ca5b78e-ca6e-4473-8e71-036faf53be5b\")).parents('.cell').data().cell;\n      cell.output_area.append_execute_result(NB_LOAD_WARNING)\n    }\n\n  }\n\n  if (root._bokeh_is_loading === 0) {\n    console.log(\"Bokeh: BokehJS loaded, going straight to plotting\");\n    run_inline_js();\n  } else {\n    load_libs(js_urls, function() {\n      console.log(\"Bokeh: BokehJS plotting callback run at\", now());\n      run_inline_js();\n    });\n  }\n}(window));"
     },
     "metadata": {},
     "output_type": "display_data"
    }
   ],
   "source": [
    "import time\n",
    "\n",
    "import numpy as np\n",
    "from bokeh.io import push_notebook, show, output_notebook\n",
    "from bokeh.models import HoverTool\n",
    "from bokeh.plotting import figure \n",
    "output_notebook()"
   ]
  },
  {
   "cell_type": "code",
   "execution_count": 2,
   "metadata": {
    "collapsed": false,
    "jupyter": {
     "outputs_hidden": false
    }
   },
   "outputs": [],
   "source": [
    "N = 1000\n",
    "x = np.random.random(size=N) * 100\n",
    "y = np.random.random(size=N) * 100\n",
    "radii = np.random.random(size=N) * 2\n",
    "colors = [\"#%02x%02x%02x\" % (int(r), int(g), 150) for r, g in zip(50+2*x, 30+2*y)]"
   ]
  },
  {
   "cell_type": "code",
   "execution_count": 3,
   "metadata": {
    "collapsed": false,
    "jupyter": {
     "outputs_hidden": false
    }
   },
   "outputs": [],
   "source": [
    "TOOLS=\"crosshair,pan,wheel_zoom,box_zoom,reset,tap,box_select,lasso_select\"\n",
    "\n",
    "p = figure(tools=TOOLS)\n",
    "p.axis.major_label_text_font_size = \"18pt\"\n",
    "hover = HoverTool(tooltips=None, mode=\"vline\")\n",
    "p.add_tools(hover)\n",
    "r = p.circle(x,y, radius=radii, \n",
    "             fill_color=colors, fill_alpha=0.6, line_color=None, \n",
    "             hover_fill_color=\"black\", hover_fill_alpha=0.7, hover_line_color=None)\n"
   ]
  },
  {
   "cell_type": "code",
   "execution_count": 4,
   "metadata": {
    "collapsed": false,
    "jupyter": {
     "outputs_hidden": false
    }
   },
   "outputs": [
    {
     "data": {
      "text/html": [
       "\n",
       "\n",
       "\n",
       "\n",
       "\n",
       "\n",
       "  <div class=\"bk-root\" id=\"21757713-242f-42dc-9b68-c8b36eae8ef1\"></div>\n"
      ]
     },
     "metadata": {},
     "output_type": "display_data"
    },
    {
     "data": {
      "application/javascript": [
       "(function(root) {\n",
       "  function embed_document(root) {\n",
       "    \n",
       "  var docs_json = {\"002665f0-6c00-4067-8cef-571cc6da2ce0\":{\"roots\":{\"references\":[{\"attributes\":{\"below\":[{\"id\":\"f9cfc886-7a9e-4311-b026-2f358794eb7f\",\"type\":\"LinearAxis\"}],\"left\":[{\"id\":\"0f340f06-5cf0-44ee-9959-13065862f16a\",\"type\":\"LinearAxis\"}],\"renderers\":[{\"id\":\"f9cfc886-7a9e-4311-b026-2f358794eb7f\",\"type\":\"LinearAxis\"},{\"id\":\"89c8511e-01b4-4367-9165-7f75acc6af90\",\"type\":\"Grid\"},{\"id\":\"0f340f06-5cf0-44ee-9959-13065862f16a\",\"type\":\"LinearAxis\"},{\"id\":\"d26854a5-40ed-40c5-aa02-1596ee6bc100\",\"type\":\"Grid\"},{\"id\":\"efb08063-9bd5-4b92-939c-9617ec5f8d80\",\"type\":\"BoxAnnotation\"},{\"id\":\"f961972b-517e-48a1-848b-1ba20b6f18ff\",\"type\":\"BoxAnnotation\"},{\"id\":\"333e9c96-6f18-4e5c-b797-f558663c13d3\",\"type\":\"PolyAnnotation\"},{\"id\":\"edcc5d8a-8ccc-4aee-b586-f66a058301ed\",\"type\":\"GlyphRenderer\"}],\"title\":{\"id\":\"1cb8c02c-73e1-4b2a-ac53-3eda57d49047\",\"type\":\"Title\"},\"toolbar\":{\"id\":\"15f54052-1136-4bf7-89d7-ab87df2afbaa\",\"type\":\"Toolbar\"},\"x_range\":{\"id\":\"bf3c7a1d-0447-43f8-ae52-63e5a7a32982\",\"type\":\"DataRange1d\"},\"x_scale\":{\"id\":\"1cd7266c-1a67-4bb3-8c63-0bfb9b493cfa\",\"type\":\"LinearScale\"},\"y_range\":{\"id\":\"977b3b05-01b4-43f8-8df8-c1c4b9eca520\",\"type\":\"DataRange1d\"},\"y_scale\":{\"id\":\"17a7fb03-167e-4b43-b528-b65ecc5a7848\",\"type\":\"LinearScale\"}},\"id\":\"e760ac04-3eed-425b-b612-c52b31b9ae8a\",\"subtype\":\"Figure\",\"type\":\"Plot\"},{\"attributes\":{\"fill_alpha\":{\"value\":0.1},\"fill_color\":{\"value\":\"#1f77b4\"},\"line_alpha\":{\"value\":0.1},\"line_color\":{\"value\":\"#1f77b4\"},\"radius\":{\"field\":\"radius\",\"units\":\"data\"},\"x\":{\"field\":\"x\"},\"y\":{\"field\":\"y\"}},\"id\":\"fed85973-5a23-4a5b-8cc6-5ead132c57d3\",\"type\":\"Circle\"},{\"attributes\":{\"callback\":null,\"mode\":\"vline\",\"renderers\":\"auto\",\"tooltips\":null},\"id\":\"6d1b4779-62c6-4ba9-8787-6dffb24a0642\",\"type\":\"HoverTool\"},{\"attributes\":{\"callback\":null},\"id\":\"977b3b05-01b4-43f8-8df8-c1c4b9eca520\",\"type\":\"DataRange1d\"},{\"attributes\":{\"active_drag\":\"auto\",\"active_inspect\":\"auto\",\"active_multi\":null,\"active_scroll\":\"auto\",\"active_tap\":\"auto\",\"tools\":[{\"id\":\"cb3fea0f-010b-457b-b9c4-f2a08358180b\",\"type\":\"CrosshairTool\"},{\"id\":\"5a921fab-83db-43a9-a1dc-2b4c11c059ae\",\"type\":\"PanTool\"},{\"id\":\"d3fa6c3d-580c-4066-92ba-cb416d359997\",\"type\":\"WheelZoomTool\"},{\"id\":\"f36876d0-e5e3-4b27-9c77-ef3deb48e5da\",\"type\":\"BoxZoomTool\"},{\"id\":\"10df42a4-e862-4ee0-bc2b-42f27c4f26b9\",\"type\":\"ResetTool\"},{\"id\":\"6fa4fe82-e7f8-45ed-8ad1-fd1696fe8cd0\",\"type\":\"TapTool\"},{\"id\":\"1a314f1d-a490-4582-883a-29720c1b5a18\",\"type\":\"BoxSelectTool\"},{\"id\":\"795709fc-2756-4d4d-aff3-2c2471818f1f\",\"type\":\"LassoSelectTool\"},{\"id\":\"6d1b4779-62c6-4ba9-8787-6dffb24a0642\",\"type\":\"HoverTool\"}]},\"id\":\"15f54052-1136-4bf7-89d7-ab87df2afbaa\",\"type\":\"Toolbar\"},{\"attributes\":{\"formatter\":{\"id\":\"f13bd2a2-7f5e-432d-ac26-6d61e1cdb319\",\"type\":\"BasicTickFormatter\"},\"major_label_text_font_size\":{\"value\":\"18pt\"},\"plot\":{\"id\":\"e760ac04-3eed-425b-b612-c52b31b9ae8a\",\"subtype\":\"Figure\",\"type\":\"Plot\"},\"ticker\":{\"id\":\"ae763429-17c8-4e86-b7ca-b8d83175aa10\",\"type\":\"BasicTicker\"}},\"id\":\"f9cfc886-7a9e-4311-b026-2f358794eb7f\",\"type\":\"LinearAxis\"},{\"attributes\":{\"callback\":null},\"id\":\"bf3c7a1d-0447-43f8-ae52-63e5a7a32982\",\"type\":\"DataRange1d\"},{\"attributes\":{},\"id\":\"ae763429-17c8-4e86-b7ca-b8d83175aa10\",\"type\":\"BasicTicker\"},{\"attributes\":{\"fill_alpha\":{\"value\":0.6},\"fill_color\":{\"field\":\"fill_color\"},\"line_color\":{\"value\":null},\"radius\":{\"field\":\"radius\",\"units\":\"data\"},\"x\":{\"field\":\"x\"},\"y\":{\"field\":\"y\"}},\"id\":\"a6f7ffce-f6da-4fb5-aab0-79e59bc2de8b\",\"type\":\"Circle\"},{\"attributes\":{\"plot\":{\"id\":\"e760ac04-3eed-425b-b612-c52b31b9ae8a\",\"subtype\":\"Figure\",\"type\":\"Plot\"},\"ticker\":{\"id\":\"ae763429-17c8-4e86-b7ca-b8d83175aa10\",\"type\":\"BasicTicker\"}},\"id\":\"89c8511e-01b4-4367-9165-7f75acc6af90\",\"type\":\"Grid\"},{\"attributes\":{\"dimension\":1,\"plot\":{\"id\":\"e760ac04-3eed-425b-b612-c52b31b9ae8a\",\"subtype\":\"Figure\",\"type\":\"Plot\"},\"ticker\":{\"id\":\"7d921a58-fd16-4f5f-b88b-bcba8f1cfd5d\",\"type\":\"BasicTicker\"}},\"id\":\"d26854a5-40ed-40c5-aa02-1596ee6bc100\",\"type\":\"Grid\"},{\"attributes\":{},\"id\":\"7d921a58-fd16-4f5f-b88b-bcba8f1cfd5d\",\"type\":\"BasicTicker\"},{\"attributes\":{},\"id\":\"1cd7266c-1a67-4bb3-8c63-0bfb9b493cfa\",\"type\":\"LinearScale\"},{\"attributes\":{\"bottom_units\":\"screen\",\"fill_alpha\":{\"value\":0.5},\"fill_color\":{\"value\":\"lightgrey\"},\"left_units\":\"screen\",\"level\":\"overlay\",\"line_alpha\":{\"value\":1.0},\"line_color\":{\"value\":\"black\"},\"line_dash\":[4,4],\"line_width\":{\"value\":2},\"plot\":null,\"render_mode\":\"css\",\"right_units\":\"screen\",\"top_units\":\"screen\"},\"id\":\"efb08063-9bd5-4b92-939c-9617ec5f8d80\",\"type\":\"BoxAnnotation\"},{\"attributes\":{\"callback\":null,\"data\":{\"fill_color\":[\"#b55296\",\"#d96196\",\"#f7e496\",\"#d5c396\",\"#566796\",\"#e67696\",\"#ac3d96\",\"#db4296\",\"#a46f96\",\"#396796\",\"#d09f96\",\"#599e96\",\"#7b5b96\",\"#b73696\",\"#d69b96\",\"#9c6296\",\"#6b2396\",\"#674f96\",\"#cfbc96\",\"#993d96\",\"#d8c296\",\"#a8a896\",\"#ad9c96\",\"#aa7e96\",\"#a1c396\",\"#82d096\",\"#f05896\",\"#66d096\",\"#ed6196\",\"#d3b196\",\"#b14196\",\"#7a4c96\",\"#41a696\",\"#b57196\",\"#5ecf96\",\"#5b8596\",\"#5d4296\",\"#506b96\",\"#7fc096\",\"#43bb96\",\"#4f6596\",\"#ceac96\",\"#d86a96\",\"#79d196\",\"#bd6596\",\"#9c2c96\",\"#8ea096\",\"#ebd796\",\"#3a6e96\",\"#9f5996\",\"#329796\",\"#b54896\",\"#648696\",\"#d97a96\",\"#6d3e96\",\"#b49096\",\"#e59196\",\"#f5aa96\",\"#bbde96\",\"#42e596\",\"#e73796\",\"#897b96\",\"#e38496\",\"#b43596\",\"#3c5d96\",\"#b77c96\",\"#8faa96\",\"#bce496\",\"#c87d96\",\"#914696\",\"#a93396\",\"#a66596\",\"#d72596\",\"#466696\",\"#eb2696\",\"#9a9296\",\"#f4d596\",\"#589296\",\"#c6e496\",\"#cad796\",\"#b02496\",\"#aa6e96\",\"#a8ca96\",\"#708396\",\"#f93396\",\"#e66296\",\"#ed5f96\",\"#e42896\",\"#546c96\",\"#3a2196\",\"#93b396\",\"#489996\",\"#3e4a96\",\"#478f96\",\"#e72096\",\"#c45496\",\"#b0a296\",\"#c3d496\",\"#ce6596\",\"#457096\",\"#548396\",\"#558e96\",\"#c78796\",\"#772596\",\"#a1d796\",\"#f7cd96\",\"#edb196\",\"#a06f96\",\"#549896\",\"#8dc496\",\"#bc9496\",\"#db6c96\",\"#efae96\",\"#3d7596\",\"#46ba96\",\"#879c96\",\"#d05a96\",\"#c87a96\",\"#f13396\",\"#757d96\",\"#bfce96\",\"#36d196\",\"#9ac096\",\"#f38b96\",\"#e9a896\",\"#ca7f96\",\"#e8c196\",\"#80be96\",\"#9d9096\",\"#73c896\",\"#b25696\",\"#adbc96\",\"#e05a96\",\"#e4bb96\",\"#f47396\",\"#a4bf96\",\"#688696\",\"#33a596\",\"#f43c96\",\"#348e96\",\"#b29296\",\"#8f5396\",\"#764296\",\"#ea8496\",\"#734c96\",\"#ae4896\",\"#885096\",\"#babd96\",\"#943796\",\"#89b396\",\"#c7bb96\",\"#902496\",\"#363496\",\"#8a7f96\",\"#9d2d96\",\"#c9b896\",\"#c32496\",\"#dc5d96\",\"#edac96\",\"#f93b96\",\"#c79e96\",\"#d69796\",\"#5d2e96\",\"#388196\",\"#a6b696\",\"#d6bf96\",\"#c73596\",\"#915a96\",\"#f19a96\",\"#9bc996\",\"#68b096\",\"#d32b96\",\"#a54896\",\"#e03096\",\"#382796\",\"#866196\",\"#61ae96\",\"#846196\",\"#51be96\",\"#913e96\",\"#493e96\",\"#714196\",\"#a48296\",\"#ca5c96\",\"#a5a596\",\"#c8c896\",\"#3cd096\",\"#5d2e96\",\"#b0c296\",\"#48ac96\",\"#c49396\",\"#be4f96\",\"#d99b96\",\"#47bc96\",\"#43ac96\",\"#a26196\",\"#de6896\",\"#a7bb96\",\"#e3c796\",\"#669396\",\"#403e96\",\"#ddb296\",\"#c06f96\",\"#e03696\",\"#4b7896\",\"#555696\",\"#9a3a96\",\"#e43c96\",\"#395d96\",\"#8e2096\",\"#6c8596\",\"#396996\",\"#eead96\",\"#cd1f96\",\"#7a2496\",\"#5c3e96\",\"#453996\",\"#c9c496\",\"#e89a96\",\"#793e96\",\"#975396\",\"#ba8a96\",\"#b91f96\",\"#957196\",\"#e95996\",\"#376396\",\"#95da96\",\"#b13996\",\"#709996\",\"#383c96\",\"#ba5f96\",\"#676996\",\"#8bc196\",\"#857e96\",\"#d0dd96\",\"#52ca96\",\"#40aa96\",\"#efa996\",\"#862c96\",\"#584f96\",\"#675b96\",\"#7b3b96\",\"#613f96\",\"#bd9a96\",\"#cd6d96\",\"#afe096\",\"#753296\",\"#f1b196\",\"#d89896\",\"#c5be96\",\"#c25996\",\"#a13c96\",\"#542796\",\"#e32796\",\"#e42c96\",\"#63cd96\",\"#8f7596\",\"#861f96\",\"#358196\",\"#816996\",\"#c1c196\",\"#6b7996\",\"#ed3196\",\"#62e496\",\"#e3ba96\",\"#ac4f96\",\"#63e096\",\"#a56f96\",\"#86a396\",\"#e8ae96\",\"#c8ca96\",\"#a06e96\",\"#423f96\",\"#ae6c96\",\"#518596\",\"#8cb096\",\"#e45b96\",\"#9d7896\",\"#e39996\",\"#714296\",\"#b0ce96\",\"#b87b96\",\"#603e96\",\"#ebaf96\",\"#e0b996\",\"#895f96\",\"#675096\",\"#3ebb96\",\"#a4e496\",\"#ae5296\",\"#606896\",\"#a42096\",\"#e95a96\",\"#443d96\",\"#5ba496\",\"#535f96\",\"#5c7596\",\"#f0c596\",\"#4db196\",\"#d32396\",\"#c75c96\",\"#f3be96\",\"#ac5196\",\"#5c8796\",\"#4fba96\",\"#442896\",\"#9f9b96\",\"#538196\",\"#5ed396\",\"#893c96\",\"#6e7c96\",\"#548796\",\"#56c396\",\"#512a96\",\"#e0a896\",\"#ea9f96\",\"#f06196\",\"#54a996\",\"#f8d596\",\"#dea496\",\"#36bc96\",\"#87a796\",\"#4ee296\",\"#d27e96\",\"#4f7496\",\"#aad296\",\"#443796\",\"#d1aa96\",\"#a64596\",\"#d5bc96\",\"#7a2e96\",\"#6a6d96\",\"#a62a96\",\"#6c7796\",\"#9da396\",\"#44a996\",\"#48c396\",\"#f57696\",\"#dc8d96\",\"#e7a296\",\"#61aa96\",\"#4c5896\",\"#a62396\",\"#f55996\",\"#769c96\",\"#59d896\",\"#da5296\",\"#9fdb96\",\"#588396\",\"#e13196\",\"#768096\",\"#725296\",\"#7ecf96\",\"#de9096\",\"#f99c96\",\"#63e396\",\"#ed3296\",\"#6ad696\",\"#5dd996\",\"#cd9c96\",\"#419d96\",\"#e17b96\",\"#dbcf96\",\"#342d96\",\"#dba896\",\"#3b7896\",\"#9b2c96\",\"#a58996\",\"#d2dd96\",\"#582396\",\"#6b4d96\",\"#f6a196\",\"#334d96\",\"#423496\",\"#f38996\",\"#9a9596\",\"#857096\",\"#83cd96\",\"#5fe496\",\"#c3de96\",\"#337e96\",\"#af7496\",\"#e57d96\",\"#eac196\",\"#542596\",\"#a45796\",\"#adc596\",\"#cb3696\",\"#8a2596\",\"#e7ce96\",\"#547396\",\"#a02896\",\"#733896\",\"#785a96\",\"#c1a696\",\"#d5c596\",\"#db3996\",\"#c73196\",\"#ed8496\",\"#815296\",\"#f46096\",\"#609396\",\"#be6a96\",\"#845196\",\"#cfa096\",\"#6d5b96\",\"#c63796\",\"#bed696\",\"#74a996\",\"#d3cf96\",\"#438b96\",\"#dbc296\",\"#67e296\",\"#ab6b96\",\"#33d896\",\"#ec8996\",\"#cf3b96\",\"#483496\",\"#ab5396\",\"#87de96\",\"#398196\",\"#de3796\",\"#713196\",\"#67b296\",\"#aa3c96\",\"#877696\",\"#ed3c96\",\"#f49696\",\"#892996\",\"#9c3c96\",\"#4cdb96\",\"#bc7096\",\"#973696\",\"#438c96\",\"#da6a96\",\"#597296\",\"#ecd796\",\"#c74296\",\"#5a4096\",\"#d5d796\",\"#832996\",\"#a16596\",\"#c69896\",\"#9f4396\",\"#b85a96\",\"#ac2496\",\"#82a696\",\"#778396\",\"#607896\",\"#ecd996\",\"#4aba96\",\"#594c96\",\"#e46496\",\"#838296\",\"#b15f96\",\"#cccb96\",\"#f0a396\",\"#3a5a96\",\"#646b96\",\"#5a4096\",\"#e64196\",\"#e7a796\",\"#8a2b96\",\"#653f96\",\"#6ccd96\",\"#d02896\",\"#515796\",\"#8b6396\",\"#37ab96\",\"#61c296\",\"#8f9196\",\"#f54696\",\"#5ad496\",\"#b4e196\",\"#478696\",\"#49d496\",\"#74ac96\",\"#3b3396\",\"#538c96\",\"#a23796\",\"#508096\",\"#87c396\",\"#a26f96\",\"#a93396\",\"#97d896\",\"#a0e496\",\"#577d96\",\"#37c096\",\"#f32796\",\"#74e296\",\"#952a96\",\"#c83096\",\"#37b196\",\"#7e6296\",\"#e44e96\",\"#d0e396\",\"#be4f96\",\"#7e9a96\",\"#8d7f96\",\"#da9596\",\"#9b4e96\",\"#5eac96\",\"#436c96\",\"#bf2c96\",\"#34d796\",\"#516296\",\"#cc3796\",\"#38bf96\",\"#a14a96\",\"#838396\",\"#cdc696\",\"#aba896\",\"#3b8296\",\"#de6d96\",\"#905a96\",\"#553496\",\"#745b96\",\"#e7c596\",\"#e97596\",\"#abb096\",\"#526396\",\"#5b9d96\",\"#4f2e96\",\"#7f2896\",\"#d78896\",\"#c7b596\",\"#566096\",\"#9c3496\",\"#aacd96\",\"#49c396\",\"#323696\",\"#eb4d96\",\"#618d96\",\"#669896\",\"#458d96\",\"#84c296\",\"#803e96\",\"#953296\",\"#dbaf96\",\"#c8a796\",\"#41d396\",\"#a0a496\",\"#666696\",\"#f5ca96\",\"#9dbe96\",\"#9bb196\",\"#329496\",\"#8f3c96\",\"#ee4f96\",\"#653e96\",\"#85b196\",\"#5cab96\",\"#5f6c96\",\"#e54a96\",\"#c8b196\",\"#93d996\",\"#6d4096\",\"#842e96\",\"#a08e96\",\"#9b5596\",\"#54b196\",\"#f37e96\",\"#4dc296\",\"#71d496\",\"#767b96\",\"#658d96\",\"#e42396\",\"#ac2596\",\"#90d896\",\"#a8db96\",\"#80de96\",\"#796196\",\"#ba4796\",\"#6b5296\",\"#dc7896\",\"#6cc196\",\"#5e3b96\",\"#bbc396\",\"#8e8196\",\"#d23f96\",\"#5e5b96\",\"#dfd296\",\"#914e96\",\"#766b96\",\"#6d2a96\",\"#6f2096\",\"#439496\",\"#cb3796\",\"#f05596\",\"#a16596\",\"#978b96\",\"#b7d396\",\"#7ccb96\",\"#4ca596\",\"#9c3496\",\"#dde496\",\"#7f4896\",\"#804c96\",\"#d62e96\",\"#b8b296\",\"#f9a496\",\"#f55596\",\"#645996\",\"#56d696\",\"#b19096\",\"#5d4496\",\"#73c896\",\"#7da196\",\"#8a6196\",\"#bda396\",\"#d8a696\",\"#bad096\",\"#32c496\",\"#353b96\",\"#c9d696\",\"#41dd96\",\"#de7896\",\"#63d796\",\"#9dc696\",\"#d7be96\",\"#c66096\",\"#f3de96\",\"#807096\",\"#5cb096\",\"#4ce496\",\"#a96296\",\"#595196\",\"#5c6596\",\"#b27796\",\"#cc5c96\",\"#b89e96\",\"#3c4096\",\"#a35296\",\"#c9ab96\",\"#f14c96\",\"#6d9f96\",\"#a33396\",\"#98d996\",\"#49e296\",\"#9d4096\",\"#57a796\",\"#38b596\",\"#855496\",\"#dda896\",\"#58d196\",\"#8f6d96\",\"#46ce96\",\"#d2b496\",\"#ba6c96\",\"#d3e296\",\"#505d96\",\"#47cb96\",\"#67a796\",\"#cfcb96\",\"#60b896\",\"#9e4396\",\"#612696\",\"#b9c196\",\"#92d796\",\"#c78596\",\"#a05296\",\"#677d96\",\"#dea496\",\"#eb8a96\",\"#ce7296\",\"#3cd696\",\"#414196\",\"#af7596\",\"#c88196\",\"#4c8996\",\"#745896\",\"#896896\",\"#d84996\",\"#f9b796\",\"#e4c596\",\"#894b96\",\"#7e6796\",\"#e16e96\",\"#cd9c96\",\"#ef5596\",\"#523f96\",\"#c2ac96\",\"#3de496\",\"#4ae296\",\"#76be96\",\"#3c9796\",\"#e38996\",\"#4d2396\",\"#378096\",\"#e9b296\",\"#d25896\",\"#b75696\",\"#919a96\",\"#b8bd96\",\"#6c6b96\",\"#3f4d96\",\"#c73996\",\"#376896\",\"#42b296\",\"#b3a896\",\"#bb5496\",\"#a8a596\",\"#dd7796\",\"#6a2196\",\"#976196\",\"#c26596\",\"#553f96\",\"#81a796\",\"#a4bb96\",\"#8d3396\",\"#3a5e96\",\"#4b9496\",\"#689296\",\"#b9e596\",\"#c47e96\",\"#e26096\",\"#dc8c96\",\"#efde96\",\"#f88396\",\"#7dad96\",\"#69da96\",\"#39df96\",\"#e1d796\",\"#66cb96\",\"#ab9696\",\"#39cb96\",\"#499896\",\"#96cb96\",\"#8a3796\",\"#505296\",\"#924a96\",\"#599596\",\"#ac5e96\",\"#844e96\",\"#408396\",\"#ae3896\",\"#998196\",\"#528996\",\"#732d96\",\"#607596\",\"#5cd196\",\"#d67096\",\"#622596\",\"#a0c196\",\"#af5f96\",\"#69b696\",\"#e77b96\",\"#516196\",\"#78d796\",\"#b7e396\",\"#3ab596\",\"#7a3596\",\"#96cf96\",\"#bf3396\",\"#da9096\",\"#86c196\",\"#bbd796\",\"#93d596\",\"#ed6c96\",\"#496196\",\"#f4aa96\",\"#a4a996\",\"#d92b96\",\"#337296\",\"#c6bc96\",\"#b5b496\",\"#637596\",\"#6f9d96\",\"#588296\",\"#d6b496\",\"#43ba96\",\"#8b5996\",\"#6bd196\",\"#473c96\",\"#9bb796\",\"#f96f96\",\"#9e4296\",\"#ea5196\",\"#607496\",\"#454996\",\"#37e496\",\"#cb4b96\",\"#dea896\",\"#3e8396\",\"#adcd96\",\"#7be296\",\"#dd7a96\",\"#ef4d96\",\"#6c2f96\",\"#662996\",\"#9da696\",\"#a65f96\",\"#b89296\",\"#8f6896\",\"#61af96\",\"#6d6996\",\"#71ce96\",\"#6c2496\",\"#904796\",\"#f6bd96\",\"#548296\",\"#a4ae96\",\"#79c496\",\"#d4e196\",\"#a6b996\",\"#443b96\",\"#a6a496\",\"#cacf96\",\"#6b3d96\",\"#e47396\",\"#b75696\",\"#afd796\",\"#bfb596\",\"#40d996\",\"#3ead96\",\"#32d096\",\"#a2b496\",\"#cab796\",\"#bc2196\",\"#eb5296\",\"#c2ce96\",\"#bc8a96\",\"#635f96\",\"#e46a96\",\"#c59e96\",\"#4bdb96\",\"#a79e96\",\"#c25196\",\"#803596\",\"#9f7a96\",\"#35c096\",\"#7aac96\",\"#bc5a96\",\"#d6db96\",\"#e71f96\",\"#eed196\",\"#392f96\",\"#f8a696\",\"#903b96\",\"#652996\",\"#943296\",\"#4f7196\",\"#c73696\",\"#bc3d96\",\"#994096\",\"#629f96\",\"#a52f96\",\"#beac96\",\"#80aa96\",\"#a17d96\",\"#bc7396\",\"#574696\",\"#37bc96\",\"#d4d996\",\"#4f8b96\",\"#c05896\",\"#904596\",\"#4f9f96\",\"#bd4696\",\"#ac3596\",\"#f7bf96\",\"#837c96\",\"#50dc96\",\"#f36996\",\"#afad96\",\"#a3aa96\",\"#5dc096\",\"#6a9c96\",\"#48db96\",\"#78ce96\",\"#7ac696\",\"#46a796\",\"#e4b196\",\"#686b96\",\"#d26496\",\"#aa5c96\",\"#578496\",\"#6dd296\",\"#d62c96\",\"#a44796\",\"#c0d496\",\"#57ad96\",\"#a8a496\",\"#c73b96\",\"#8c6196\",\"#94b396\",\"#568f96\",\"#a36a96\",\"#f7a296\",\"#ddbf96\",\"#eea596\",\"#cccc96\",\"#ec2396\",\"#69e596\",\"#86d296\",\"#a87a96\",\"#bea296\",\"#534896\",\"#626396\",\"#536296\",\"#418096\",\"#d9d696\",\"#5ed796\",\"#5d4a96\",\"#7d3796\",\"#d4c796\",\"#db6196\",\"#f98c96\",\"#769c96\",\"#c32f96\",\"#3ae096\",\"#b87396\",\"#3cb796\",\"#efa296\",\"#5a9696\",\"#607596\",\"#868496\",\"#497696\",\"#9a5896\",\"#447396\",\"#c94a96\",\"#658696\",\"#7f8b96\",\"#f9ba96\",\"#6fc696\",\"#587c96\",\"#43c096\",\"#723a96\",\"#ce7496\",\"#78cc96\",\"#e4d796\",\"#d54696\",\"#bd5496\",\"#355096\",\"#417d96\",\"#e4a796\",\"#d77696\",\"#6fb196\",\"#8eba96\",\"#a93396\",\"#f14196\",\"#467f96\",\"#7cd396\",\"#966696\",\"#877496\",\"#c3da96\",\"#74ba96\",\"#986f96\",\"#b8d596\",\"#a2b996\",\"#352096\",\"#a29d96\",\"#6bc996\",\"#56b496\",\"#c0d096\",\"#f28d96\",\"#abc096\",\"#505596\",\"#5ec096\",\"#512896\",\"#bb6f96\",\"#9b2896\",\"#c27c96\",\"#3ccd96\",\"#5dbb96\",\"#d74296\",\"#d56996\",\"#665996\",\"#945496\",\"#f23c96\",\"#eb5b96\",\"#d0e196\",\"#f27a96\",\"#6c4796\",\"#63a796\",\"#dc7f96\",\"#d62e96\",\"#795896\",\"#a83996\",\"#f7ae96\",\"#789896\",\"#edc196\",\"#646996\",\"#e15796\",\"#f9b196\",\"#a3ce96\",\"#dae196\",\"#b9cc96\",\"#bc3f96\",\"#834396\",\"#e47096\",\"#5e6596\",\"#655296\",\"#5c5896\",\"#352196\",\"#cb6696\",\"#3f8a96\",\"#4f5096\",\"#759896\",\"#397d96\"],\"radius\":{\"__ndarray__\":\"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\",\"dtype\":\"float64\",\"shape\":[1000]},\"x\":{\"__ndarray__\":\"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\",\"dtype\":\"float64\",\"shape\":[1000]},\"y\":{\"__ndarray__\":\"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\",\"dtype\":\"float64\",\"shape\":[1000]}},\"selected\":{\"id\":\"fb9a7683-2e47-4e64-be26-554f332112fa\",\"type\":\"Selection\"},\"selection_policy\":{\"id\":\"61021e1e-4ce5-4cd7-accc-33e509dbb688\",\"type\":\"UnionRenderers\"}},\"id\":\"4318aefe-6e72-4e2a-8af6-56e540e7f5ed\",\"type\":\"ColumnDataSource\"},{\"attributes\":{\"formatter\":{\"id\":\"f5b2450e-b11d-4db2-9801-cbeff9513e79\",\"type\":\"BasicTickFormatter\"},\"major_label_text_font_size\":{\"value\":\"18pt\"},\"plot\":{\"id\":\"e760ac04-3eed-425b-b612-c52b31b9ae8a\",\"subtype\":\"Figure\",\"type\":\"Plot\"},\"ticker\":{\"id\":\"7d921a58-fd16-4f5f-b88b-bcba8f1cfd5d\",\"type\":\"BasicTicker\"}},\"id\":\"0f340f06-5cf0-44ee-9959-13065862f16a\",\"type\":\"LinearAxis\"},{\"attributes\":{},\"id\":\"cb3fea0f-010b-457b-b9c4-f2a08358180b\",\"type\":\"CrosshairTool\"},{\"attributes\":{\"plot\":null,\"text\":\"\"},\"id\":\"1cb8c02c-73e1-4b2a-ac53-3eda57d49047\",\"type\":\"Title\"},{\"attributes\":{\"source\":{\"id\":\"4318aefe-6e72-4e2a-8af6-56e540e7f5ed\",\"type\":\"ColumnDataSource\"}},\"id\":\"84196bd2-dde5-4b47-aa5b-1768a37bd7a5\",\"type\":\"CDSView\"},{\"attributes\":{},\"id\":\"17a7fb03-167e-4b43-b528-b65ecc5a7848\",\"type\":\"LinearScale\"},{\"attributes\":{},\"id\":\"5a921fab-83db-43a9-a1dc-2b4c11c059ae\",\"type\":\"PanTool\"},{\"attributes\":{},\"id\":\"d3fa6c3d-580c-4066-92ba-cb416d359997\",\"type\":\"WheelZoomTool\"},{\"attributes\":{\"overlay\":{\"id\":\"efb08063-9bd5-4b92-939c-9617ec5f8d80\",\"type\":\"BoxAnnotation\"}},\"id\":\"f36876d0-e5e3-4b27-9c77-ef3deb48e5da\",\"type\":\"BoxZoomTool\"},{\"attributes\":{},\"id\":\"10df42a4-e862-4ee0-bc2b-42f27c4f26b9\",\"type\":\"ResetTool\"},{\"attributes\":{\"data_source\":{\"id\":\"4318aefe-6e72-4e2a-8af6-56e540e7f5ed\",\"type\":\"ColumnDataSource\"},\"glyph\":{\"id\":\"a6f7ffce-f6da-4fb5-aab0-79e59bc2de8b\",\"type\":\"Circle\"},\"hover_glyph\":{\"id\":\"626c158e-811d-447a-a177-7fa6ce41eff1\",\"type\":\"Circle\"},\"muted_glyph\":null,\"nonselection_glyph\":{\"id\":\"fed85973-5a23-4a5b-8cc6-5ead132c57d3\",\"type\":\"Circle\"},\"selection_glyph\":null,\"view\":{\"id\":\"84196bd2-dde5-4b47-aa5b-1768a37bd7a5\",\"type\":\"CDSView\"}},\"id\":\"edcc5d8a-8ccc-4aee-b586-f66a058301ed\",\"type\":\"GlyphRenderer\"},{\"attributes\":{\"callback\":null},\"id\":\"6fa4fe82-e7f8-45ed-8ad1-fd1696fe8cd0\",\"type\":\"TapTool\"},{\"attributes\":{\"callback\":null,\"overlay\":{\"id\":\"f961972b-517e-48a1-848b-1ba20b6f18ff\",\"type\":\"BoxAnnotation\"}},\"id\":\"1a314f1d-a490-4582-883a-29720c1b5a18\",\"type\":\"BoxSelectTool\"},{\"attributes\":{\"callback\":null,\"overlay\":{\"id\":\"333e9c96-6f18-4e5c-b797-f558663c13d3\",\"type\":\"PolyAnnotation\"}},\"id\":\"795709fc-2756-4d4d-aff3-2c2471818f1f\",\"type\":\"LassoSelectTool\"},{\"attributes\":{},\"id\":\"61021e1e-4ce5-4cd7-accc-33e509dbb688\",\"type\":\"UnionRenderers\"},{\"attributes\":{\"fill_alpha\":{\"value\":0.5},\"fill_color\":{\"value\":\"lightgrey\"},\"level\":\"overlay\",\"line_alpha\":{\"value\":1.0},\"line_color\":{\"value\":\"black\"},\"line_dash\":[4,4],\"line_width\":{\"value\":2},\"plot\":null,\"xs_units\":\"screen\",\"ys_units\":\"screen\"},\"id\":\"333e9c96-6f18-4e5c-b797-f558663c13d3\",\"type\":\"PolyAnnotation\"},{\"attributes\":{},\"id\":\"f13bd2a2-7f5e-432d-ac26-6d61e1cdb319\",\"type\":\"BasicTickFormatter\"},{\"attributes\":{\"bottom_units\":\"screen\",\"fill_alpha\":{\"value\":0.5},\"fill_color\":{\"value\":\"lightgrey\"},\"left_units\":\"screen\",\"level\":\"overlay\",\"line_alpha\":{\"value\":1.0},\"line_color\":{\"value\":\"black\"},\"line_dash\":[4,4],\"line_width\":{\"value\":2},\"plot\":null,\"render_mode\":\"css\",\"right_units\":\"screen\",\"top_units\":\"screen\"},\"id\":\"f961972b-517e-48a1-848b-1ba20b6f18ff\",\"type\":\"BoxAnnotation\"},{\"attributes\":{\"fill_alpha\":{\"value\":0.7},\"fill_color\":{\"value\":\"black\"},\"line_color\":{\"value\":null},\"radius\":{\"field\":\"radius\",\"units\":\"data\"},\"x\":{\"field\":\"x\"},\"y\":{\"field\":\"y\"}},\"id\":\"626c158e-811d-447a-a177-7fa6ce41eff1\",\"type\":\"Circle\"},{\"attributes\":{},\"id\":\"f5b2450e-b11d-4db2-9801-cbeff9513e79\",\"type\":\"BasicTickFormatter\"},{\"attributes\":{},\"id\":\"fb9a7683-2e47-4e64-be26-554f332112fa\",\"type\":\"Selection\"}],\"root_ids\":[\"e760ac04-3eed-425b-b612-c52b31b9ae8a\"]},\"title\":\"Bokeh Application\",\"version\":\"0.13.0\"}};\n",
       "  var render_items = [{\"docid\":\"002665f0-6c00-4067-8cef-571cc6da2ce0\",\"notebook_comms_target\":\"6dbab524-1a85-4716-9be7-bb338278bba9\",\"roots\":{\"e760ac04-3eed-425b-b612-c52b31b9ae8a\":\"21757713-242f-42dc-9b68-c8b36eae8ef1\"}}];\n",
       "  root.Bokeh.embed.embed_items_notebook(docs_json, render_items);\n",
       "\n",
       "  }\n",
       "  if (root.Bokeh !== undefined) {\n",
       "    embed_document(root);\n",
       "  } else {\n",
       "    var attempts = 0;\n",
       "    var timer = setInterval(function(root) {\n",
       "      if (root.Bokeh !== undefined) {\n",
       "        embed_document(root);\n",
       "        clearInterval(timer);\n",
       "      }\n",
       "      attempts++;\n",
       "      if (attempts > 100) {\n",
       "        console.log(\"Bokeh: ERROR: Unable to run BokehJS code because BokehJS library is missing\")\n",
       "        clearInterval(timer);\n",
       "      }\n",
       "    }, 10, root)\n",
       "  }\n",
       "})(window);"
      ],
      "application/vnd.bokehjs_exec.v0+json": ""
     },
     "metadata": {
      "application/vnd.bokehjs_exec.v0+json": {
       "id": "e760ac04-3eed-425b-b612-c52b31b9ae8a"
      }
     },
     "output_type": "display_data"
    }
   ],
   "source": [
    "# get and explicit handle to update the next show cell with\n",
    "target = show(p, notebook_handle=True)"
   ]
  },
  {
   "cell_type": "code",
   "execution_count": null,
   "metadata": {
    "collapsed": false,
    "jupyter": {
     "outputs_hidden": false
    },
    "scrolled": true
   },
   "outputs": [],
   "source": [
    "i = 0\n",
    "while True:\n",
    "    i +=1 \n",
    "    p.title.text = str(i)\n",
    "    \n",
    "    r.data_source.data['radius'] = radii * (2 + np.sin(i/5))\n",
    "    \n",
    "    x = r.data_source.data['x']\n",
    "    y = r.data_source.data['y']\n",
    "    d = np.sqrt((x-50)**2 + (y-50)**2)/100\n",
    "    rand = 2 * (np.random.random(size=N) - 0.5)\n",
    "    r.data_source.data['x'] = x + 2 * np.sin(d) * rand\n",
    "    r.data_source.data['y'] = y + np.cos(d**2) * rand\n",
    "    \n",
    "    p.axis.major_label_text_color = r.data_source.data['fill_color'][int(i%N)]\n",
    "\n",
    "    # push updates to the plot continuously using the handle (intererrupt the notebook kernel to stop)\n",
    "    push_notebook(handle=target)\n",
    "    time.sleep(0.1)"
   ]
  },
  {
   "cell_type": "code",
   "execution_count": 6,
   "metadata": {
    "collapsed": false,
    "jupyter": {
     "outputs_hidden": false
    }
   },
   "outputs": [],
   "source": [
    "# Update the hover glyph propertes using the explicit handle (go hover over the plot)\n",
    "r.hover_glyph.fill_color = \"white\"\n",
    "r.hover_glyph.fill_alpha = 0.5\n",
    "hover.mode = \"vline\"\n",
    "push_notebook()"
   ]
  },
  {
   "cell_type": "code",
   "execution_count": null,
   "metadata": {
    "collapsed": false,
    "jupyter": {
     "outputs_hidden": false
    }
   },
   "outputs": [],
   "source": []
  }
 ],
 "metadata": {
  "kernelspec": {
   "display_name": "Python 3",
   "language": "python",
   "name": "python3"
  },
  "language_info": {
   "codemirror_mode": {
    "name": "ipython",
    "version": 3
   },
   "file_extension": ".py",
   "mimetype": "text/x-python",
   "name": "python",
   "nbconvert_exporter": "python",
   "pygments_lexer": "ipython3",
   "version": "3.6.7"
  }
 },
 "nbformat": 4,
 "nbformat_minor": 4
}
